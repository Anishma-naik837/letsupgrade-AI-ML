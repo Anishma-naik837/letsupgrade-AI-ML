{
 "cells": [
  {
   "cell_type": "code",
   "execution_count": 1,
   "metadata": {},
   "outputs": [
    {
     "name": "stdout",
     "output_type": "stream",
     "text": [
      "ani@google.com\n",
      "google"
     ]
    }
   ],
   "source": [
    "'''Assuming that we have some email addresses in the \"username@companyname.com\" format, please write program\n",
    "to print the company name of a given email address. Both user names and company names are composed of letters\n",
    "only.'''\n",
    "\n",
    "ed=input()\n",
    "x=ed.index(\"@\")\n",
    "print(ed[x+1:len(ip)-4],end='')"
   ]
  },
  {
   "cell_type": "code",
   "execution_count": 2,
   "metadata": {},
   "outputs": [
    {
     "name": "stdout",
     "output_type": "stream",
     "text": [
      "3.0\n"
     ]
    }
   ],
   "source": [
    "'''Write a program that accepts a comma-separated sequence of words as input and prints the words in a comma\n",
    "separated sequence after sorting them alphabetically.\n",
    "'''\n",
    "\n",
    "inp = input().split(',')\n",
    "l = list(inp)\n",
    "l1 = len(l)\n",
    "\n",
    "y = sorted(l)\n",
    "l = y\n",
    "\n",
    "for i in range (l1):\n",
    "    if i == l1-1:\n",
    "        print(l[i],end=\"\")\n",
    "    else:\n",
    "        print(l[i],end=\",\")\n"
   ]
  },
  {
   "cell_type": "code",
   "execution_count": 15,
   "metadata": {},
   "outputs": [
    {
     "name": "stdout",
     "output_type": "stream",
     "text": [
      "dbms\n",
      "python\n",
      "java\n",
      "cpp\n",
      "c\n",
      "True\n",
      "{'dbms', 'python', 'java', 'cpp', 'c', 'anaconda'}\n",
      "{'dbms', 'python', 'java', 'noej4', 'mangodb', 'cpp', 'c', 'anaconda'}\n",
      "8\n",
      "{'dbms', 'python', 'java', 'noej4', 'mangodb', 'c', 'anaconda'}\n",
      "{'dbms', 'python', 'java', 'noej4', 'mangodb', 'anaconda'}\n",
      "dbms\n",
      "{'python', 'java', 'noej4', 'mangodb', 'anaconda'}\n",
      "set()\n",
      "{33, 'cde', 22, 'bcd', 11, 'abc'}\n",
      "{33, 'cde', 22, 'bcd', 11, 'abc'}\n",
      "{'banana', 'cherry', 'apple'}\n"
     ]
    }
   ],
   "source": [
    "'''Create your own Jupyter Notebook for Sets.'''\n",
    "##to create a set\n",
    "set1 = {\"python\", \"cpp\", \"c\",\"dbms\",\"java\"}\n",
    "\n",
    "for x in set1:\n",
    "  print(x)\n",
    "\n",
    "#to check if the given element is in the set 'in ' is used  \n",
    "print(\"cpp\" in set1 )\n",
    "\n",
    "#to add the new element to the set setname.add() is  used \n",
    "set1.add(\"anaconda\")\n",
    "print(set1)\n",
    "\n",
    "#to update the exsisting set setname.update() is used \n",
    "set1.update([\"mangodb\", \"cpp\", \"java\" ,\"c\",\"dbms\",\"noej4\",\"python\"])\n",
    "print(set1)\n",
    "\n",
    "#to find the length of the set len(setname) is used \n",
    "print(len(set1))\n",
    "\n",
    "#to remove any element from the set setname.remove() is used\n",
    "set1.remove(\"cpp\")\n",
    "print(set1)\n",
    "\n",
    "#to discard any element from the set setname.discard() is used\n",
    "set1.discard(\"c\")\n",
    "print(set1)\n",
    "\n",
    "#to pop the last element from thne set setname.pop() is used\n",
    "x = set1.pop()\n",
    "print(x)\n",
    "print(set1)\n",
    "\n",
    "#to clear the set setname.clear() is used\n",
    "set2 = {\"data struct\", \"os\", \"Mc\"}\n",
    "set2.clear()\n",
    "print(set2)\n",
    "\n",
    "#to join two sets setname1.union(setname2) is used\n",
    "set1 = {\"abc\", \"bcd\" , \"cde\"}\n",
    "set2 = {11, 22, 33}\n",
    "\n",
    "set3 = set1.union(set2)\n",
    "print(set3)\n",
    "\n",
    "\n",
    "#to update the two set setname1.update(setname2) \n",
    "set1.update(set2)\n",
    "print(set1)\n",
    "\n",
    "#Using the set() constructor to make a set:\n",
    "set1 = set((\"apple\", \"banana\", \"cherry\"))\n",
    "print(set1)"
   ]
  },
  {
   "cell_type": "code",
   "execution_count": null,
   "metadata": {},
   "outputs": [],
   "source": [
    "'''Given a list of n-1 numbers ranging from 1 to n, your task is to find the missing number. There are no duplicates.'''\n",
    "\n",
    "def getMissingNo(lst): \n",
    "    n = len(lst) \n",
    "    total = (n + 1)*(n + 2)/2\n",
    "    sum_of_lst = sum(lst) \n",
    "    return total - sum_of_lst \n",
    "  \n",
    "lst = [] \n",
    "m = int(input(\"Enter number of elements : \"))  \n",
    "for i in range(0, m): \n",
    "    ele = int(input()) \n",
    "    lst.append(ele)\n",
    "miss = getMissingNo(lst) \n",
    "print(miss) "
   ]
  },
  {
   "cell_type": "code",
   "execution_count": 17,
   "metadata": {},
   "outputs": [
    {
     "name": "stdout",
     "output_type": "stream",
     "text": [
      "Enter number of elements : 5\n",
      "1 \n",
      "5\n",
      "6\n",
      "5\n",
      "6\n",
      "The reversed list is: [6, 5, 1]\n"
     ]
    }
   ],
   "source": [
    "mylist = []\n",
    "m = int(input(\"Enter number of elements : \"))  \n",
    "for i in range(0, m): \n",
    "    ele = int(input()) \n",
    "    mylist.append(ele)\n",
    "    \n",
    "mylist = list( dict.fromkeys(mylist) )\n",
    "revlist = mylist[::-1]\n",
    "print(\"The reversed list is:\", revlist)"
   ]
  },
  {
   "cell_type": "code",
   "execution_count": null,
   "metadata": {},
   "outputs": [],
   "source": []
  }
 ],
 "metadata": {
  "kernelspec": {
   "display_name": "Python 3",
   "language": "python",
   "name": "python3"
  },
  "language_info": {
   "codemirror_mode": {
    "name": "ipython",
    "version": 3
   },
   "file_extension": ".py",
   "mimetype": "text/x-python",
   "name": "python",
   "nbconvert_exporter": "python",
   "pygments_lexer": "ipython3",
   "version": "3.7.6"
  }
 },
 "nbformat": 4,
 "nbformat_minor": 4
}
