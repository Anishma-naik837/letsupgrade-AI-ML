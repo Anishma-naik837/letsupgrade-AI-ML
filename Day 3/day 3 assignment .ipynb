{
 "cells": [
  {
   "cell_type": "code",
   "execution_count": 1,
   "metadata": {},
   "outputs": [
    {
     "name": "stdout",
     "output_type": "stream",
     "text": [
      "(6+3j)\n"
     ]
    }
   ],
   "source": [
    "#program to subtract two complex numbers \n",
    "a=8+4j\n",
    "b=2+1j\n",
    "c=a-b\n",
    "print(c)"
   ]
  },
  {
   "cell_type": "code",
   "execution_count": 3,
   "metadata": {},
   "outputs": [
    {
     "name": "stdout",
     "output_type": "stream",
     "text": [
      "the forth root x is  2.0305431848689306\n"
     ]
    }
   ],
   "source": [
    "#to find fourth root of a number \n",
    "x=17\n",
    "x=x**(1/4)\n",
    "print(\"the forth root x is \",x)"
   ]
  },
  {
   "cell_type": "code",
   "execution_count": 6,
   "metadata": {},
   "outputs": [
    {
     "name": "stdout",
     "output_type": "stream",
     "text": [
      "the value of p after swap is  20\n",
      "the value of q after swap is  10\n"
     ]
    }
   ],
   "source": [
    "#swap two numbers with help of temp variables \n",
    "p=10\n",
    "q=20\n",
    "temp=q\n",
    "q=p\n",
    "p=temp\n",
    "print(\"the value of p after swap is \",p)\n",
    "print(\"the value of q after swap is \",q)\n"
   ]
  },
  {
   "cell_type": "code",
   "execution_count": 7,
   "metadata": {},
   "outputs": [
    {
     "name": "stdout",
     "output_type": "stream",
     "text": [
      "the value of p after swap is  30\n",
      "the value of q after swap is  20\n"
     ]
    }
   ],
   "source": [
    "#swap two numbers without using temp \n",
    "p=20\n",
    "q=30\n",
    "p=p+q\n",
    "q=p-q\n",
    "p=p-q\n",
    "print(\"the value of p after swap is \",p)\n",
    "print(\"the value of q after swap is \",q)"
   ]
  },
  {
   "cell_type": "code",
   "execution_count": 9,
   "metadata": {},
   "outputs": [
    {
     "name": "stdout",
     "output_type": "stream",
     "text": [
      "kalvin cenversion of farenheit is 273.15\n",
      "celcius cenversion of farenheit is 0.0\n"
     ]
    }
   ],
   "source": [
    "#program to convert farenheit to kalvin and celcius  both \n",
    "f=32\n",
    "k=((f-32)*(5/9))+273.15\n",
    "print(\"kalvin cenversion of farenheit is\" ,k)\n",
    "c=((f-32)*(5/9))\n",
    "print(\"celcius cenversion of farenheit is\" ,c)\n",
    "\n"
   ]
  },
  {
   "cell_type": "code",
   "execution_count": 16,
   "metadata": {},
   "outputs": [
    {
     "name": "stdout",
     "output_type": "stream",
     "text": [
      "the datatype of a is <class 'int'>\n",
      "the datatype of a is <class 'float'>\n",
      "the datatype of a is <class 'complex'>\n",
      "the datatype of a is <class 'str'>\n",
      "the datatype of a is <class 'tuple'>\n"
     ]
    }
   ],
   "source": [
    "#program to demonstrate all the available data types in python\n",
    "a=5\n",
    "b =5.02\n",
    "c=5+8j\n",
    "d='python'\n",
    "e=100,00,00\n",
    "print(\"the datatype of a is\" ,type(a))\n",
    "print(\"the datatype of a is\" ,type(b))\n",
    "print(\"the datatype of a is\" ,type(c))\n",
    "print(\"the datatype of a is\" ,type(d))\n",
    "print(\"the datatype of a is\" ,type(e))\n"
   ]
  },
  {
   "cell_type": "markdown",
   "metadata": {},
   "source": [
    "# Create a markdown cell \n",
    "  ## Steps to follow   \n",
    "  __1__ If the profile is  not created then create a github profile by  signing up and entring the required credentials.\n",
    "  \n",
    "  __2__ If the profile already created then just sign in .Then  we need to create a repository named \"___letsupgarde AI/ML___\"\n",
    "  and keep the repository __public__.\n",
    "  \n",
    "  __3__ In the created repository folders have to be created with the respective __day number__  so as to submit the respective day's    assignemnet by drag and droping the particular assignemnt file in the folder created for the respective day .\n",
    "  \n",
    "  __4__ The link has to be  filled in the google form giving in the files section of the respective day in learn with   letsupgrade portal .\n",
    "  \n",
    " __5__ The confirmation submission  mail will be sent to the registered mail id .\n",
    " \n",
    "  "
   ]
  },
  {
   "cell_type": "code",
   "execution_count": null,
   "metadata": {},
   "outputs": [],
   "source": []
  },
  {
   "cell_type": "code",
   "execution_count": null,
   "metadata": {},
   "outputs": [],
   "source": []
  }
 ],
 "metadata": {
  "kernelspec": {
   "display_name": "Python 3",
   "language": "python",
   "name": "python3"
  },
  "language_info": {
   "codemirror_mode": {
    "name": "ipython",
    "version": 3
   },
   "file_extension": ".py",
   "mimetype": "text/x-python",
   "name": "python",
   "nbconvert_exporter": "python",
   "pygments_lexer": "ipython3",
   "version": "3.7.6"
  }
 },
 "nbformat": 4,
 "nbformat_minor": 4
}
