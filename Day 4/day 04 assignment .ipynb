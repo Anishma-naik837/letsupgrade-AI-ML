{
 "cells": [
  {
   "cell_type": "code",
   "execution_count": 2,
   "metadata": {},
   "outputs": [
    {
     "name": "stdout",
     "output_type": "stream",
     "text": [
      "addition of two complex number is (13+10j)\n",
      "difference  of two complex number is (-3-2j)\n",
      "multiplication of two complex number is (16+62j)\n",
      "division of two complex number is (0.64+0.02j)\n",
      "floor division and modulo cannot be computed for two complex number\n"
     ]
    }
   ],
   "source": [
    "'''Research on whether addition, subtraction, multiplication, division, floor division and modulo\n",
    "operations be performed on complex numbers. Based on your study, implement a Python\n",
    "program to demonstrate these operations.\n",
    "'''\n",
    "a=5+4j\n",
    "b=8+6j\n",
    "#addition \n",
    "sum=a+b\n",
    "#difference \n",
    "diff=a-b\n",
    "#multiplication\n",
    "mul=a*b\n",
    "#division \n",
    "div=a/b\n",
    "#floor division \n",
    "\n",
    "print(\"addition of two complex number is\",sum)\n",
    "print(\"difference  of two complex number is\",diff)\n",
    "print(\"multiplication of two complex number is\",mul)\n",
    "print(\"division of two complex number is\",div)\n",
    "print(\"floor division and modulo cannot be computed for two complex number\")\n",
    "\n"
   ]
  },
  {
   "cell_type": "markdown",
   "metadata": {},
   "source": [
    "__Research on range() functions and its parameters. Create a markdown cell and write in your own\n",
    "words (no copy-paste from google please) what you understand about it.__\n",
    "\n",
    "The built-in function __range()__ generates the integer numbers between the given start integer to the stop integer, i.e., It returns a range object. Using for loop, we can iterate over a sequence of numbers produced by the range() function. \n",
    "\n",
    "__There are three parameters__\n",
    "\n",
    "__Start__ argument is a starting number of the sequence or lower limit. \n",
    "\n",
    "__Stop__ argument is an upper limit or the last number of the sequence.  \n",
    "\n",
    "__Step__  is a difference between each number in the result."
   ]
  },
  {
   "cell_type": "code",
   "execution_count": 25,
   "metadata": {},
   "outputs": [
    {
     "name": "stdout",
     "output_type": "stream",
     "text": [
      "Printing All even numbers between 2 and 10 using range()\n",
      "2, 4, 6, 8, "
     ]
    }
   ],
   "source": [
    "'''Implement a small\n",
    "program of your choice on the same.'''\n",
    "    \n",
    "# using start, stop, and step arguments in range()\n",
    "print(\"Printing All even numbers between 2 and 10 using range()\")\n",
    "for i in range(2, 10, 2):\n",
    "    print(i, end=', ')"
   ]
  },
  {
   "cell_type": "code",
   "execution_count": 15,
   "metadata": {},
   "outputs": [
    {
     "name": "stdout",
     "output_type": "stream",
     "text": [
      "The result is  2.0\n"
     ]
    }
   ],
   "source": [
    " ''' Consider two numbers. Perform their subtraction and if the result of subtraction is greater than\n",
    "25, print their multiplication result else print their division result.\n",
    "'''\n",
    "a=50\n",
    "b=25\n",
    "sub=a-b\n",
    "if sub>25:\n",
    "    print(\"the result is \",a*b)\n",
    "else:\n",
    "    print(\"The result is \",a/b)"
   ]
  },
  {
   "cell_type": "code",
   "execution_count": 13,
   "metadata": {},
   "outputs": [
    {
     "name": "stdout",
     "output_type": "stream",
     "text": [
      "the result of the number 4 is 14\n",
      "the result of the number 56 is 3134\n",
      "the result of the number 78 is 6082\n",
      "the result of the number 6 is 34\n",
      "the result of the number 12 is 142\n"
     ]
    }
   ],
   "source": [
    "'''Consider a list of 10 elements of integer values. If the number in the list is divisible by 2, print the\n",
    "result as \"square of that number minus 2\".\n",
    "'''\n",
    "l=[1,3,4,56,78,5,6,87,9,12]\n",
    "for i in l:\n",
    "    if i%2==0:\n",
    "        print(\"the result of the number\",i,\"is\",(i**2)-2)"
   ]
  },
  {
   "cell_type": "code",
   "execution_count": 12,
   "metadata": {},
   "outputs": [
    {
     "name": "stdout",
     "output_type": "stream",
     "text": [
      " the elements in the list which are greater than 7 when number is divided 2 is  56\n",
      " the elements in the list which are greater than 7 when number is divided 2 is  78\n",
      " the elements in the list which are greater than 7 when number is divided 2 is  87\n"
     ]
    }
   ],
   "source": [
    "'''Consider a list of 10 elements. Print all the elements in the list which are greater than 7 when that\n",
    "number is divided 2.'''\n",
    "l=[1,3,4,56,78,5,6,87,9,12]\n",
    "for i in l:\n",
    "    p=i/2\n",
    "    if p>7:\n",
    "        print(\" the elements in the list which are greater than 7 when number is divided 2 is \",i)\n",
    "    "
   ]
  },
  {
   "cell_type": "code",
   "execution_count": null,
   "metadata": {},
   "outputs": [],
   "source": []
  }
 ],
 "metadata": {
  "kernelspec": {
   "display_name": "Python 3",
   "language": "python",
   "name": "python3"
  },
  "language_info": {
   "codemirror_mode": {
    "name": "ipython",
    "version": 3
   },
   "file_extension": ".py",
   "mimetype": "text/x-python",
   "name": "python",
   "nbconvert_exporter": "python",
   "pygments_lexer": "ipython3",
   "version": "3.7.6"
  }
 },
 "nbformat": 4,
 "nbformat_minor": 4
}
